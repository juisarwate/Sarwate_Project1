{
 "cells": [
  {
   "cell_type": "code",
   "execution_count": null,
   "id": "4fcd919e",
   "metadata": {
    "scrolled": true
   },
   "outputs": [],
   "source": [
    "# !pip install plotnine"
   ]
  },
  {
   "cell_type": "code",
   "execution_count": null,
   "id": "f53bc039",
   "metadata": {},
   "outputs": [],
   "source": []
  },
  {
   "cell_type": "code",
   "execution_count": null,
   "id": "526de4e1",
   "metadata": {
    "scrolled": true
   },
   "outputs": [],
   "source": [
    "import pandas as pd\n",
    "from plotnine import *"
   ]
  },
  {
   "cell_type": "code",
   "execution_count": null,
   "id": "4510ed08",
   "metadata": {},
   "outputs": [],
   "source": []
  },
  {
   "cell_type": "code",
   "execution_count": null,
   "id": "29185a5d",
   "metadata": {},
   "outputs": [],
   "source": []
  },
  {
   "cell_type": "code",
   "execution_count": null,
   "id": "1333927e",
   "metadata": {},
   "outputs": [],
   "source": []
  },
  {
   "cell_type": "code",
   "execution_count": null,
   "id": "d80ba138",
   "metadata": {},
   "outputs": [],
   "source": []
  },
  {
   "cell_type": "code",
   "execution_count": null,
   "id": "1bb42fc4",
   "metadata": {},
   "outputs": [],
   "source": []
  },
  {
   "cell_type": "code",
   "execution_count": null,
   "id": "d41a05dc",
   "metadata": {},
   "outputs": [],
   "source": []
  },
  {
   "cell_type": "code",
   "execution_count": null,
   "id": "eb13de00",
   "metadata": {},
   "outputs": [],
   "source": []
  },
  {
   "cell_type": "code",
   "execution_count": null,
   "id": "a12a4d3b",
   "metadata": {},
   "outputs": [],
   "source": []
  },
  {
   "cell_type": "code",
   "execution_count": null,
   "id": "13823249",
   "metadata": {},
   "outputs": [],
   "source": []
  },
  {
   "cell_type": "code",
   "execution_count": null,
   "id": "9e4cb860",
   "metadata": {},
   "outputs": [],
   "source": []
  },
  {
   "cell_type": "code",
   "execution_count": null,
   "id": "e15c765e",
   "metadata": {},
   "outputs": [],
   "source": []
  },
  {
   "cell_type": "code",
   "execution_count": null,
   "id": "ca613b69",
   "metadata": {
    "scrolled": false
   },
   "outputs": [],
   "source": [
    "df = pd.read_csv('Visitation_by_Month.csv')\n",
    "# df = pd.read_csv('2021_Current_Year_Monthly_and_Annual_Summary_Report_%281979%2D_Present%29.csv')\n",
    "# Columns don't have headings\n",
    "df.head(10)"
   ]
  },
  {
   "cell_type": "code",
   "execution_count": null,
   "id": "4ae90276",
   "metadata": {
    "scrolled": false
   },
   "outputs": [],
   "source": [
    "df.info()\n",
    "# Need to make months columns into int"
   ]
  },
  {
   "cell_type": "code",
   "execution_count": null,
   "id": "96277654",
   "metadata": {},
   "outputs": [],
   "source": []
  },
  {
   "cell_type": "code",
   "execution_count": null,
   "id": "c706ff96",
   "metadata": {},
   "outputs": [],
   "source": [
    "# months = ['JAN', 'FEB', 'MAR', 'APR', 'MAY', 'JUN', 'JUL', 'AUG', 'SEP', 'OCT', 'NOV', 'DEC']\n",
    "# df['total_yearly_visitors_Yosemite'] = df[months].sum(axis=1)\n",
    "# df.head()"
   ]
  },
  {
   "cell_type": "code",
   "execution_count": null,
   "id": "92d8b8fe",
   "metadata": {},
   "outputs": [],
   "source": [
    "# Sort Year and then each month\n",
    "# Will I need to remake the table to get this?"
   ]
  },
  {
   "cell_type": "code",
   "execution_count": null,
   "id": "0b092b37",
   "metadata": {},
   "outputs": [],
   "source": [
    "ggplot(df) + aes(x='Year', y='JAN') + geom_bar(stat='identity')\n",
    "# Somethings wrong with the values in the y-axis, need to make int"
   ]
  },
  {
   "cell_type": "code",
   "execution_count": null,
   "id": "1372f32a",
   "metadata": {},
   "outputs": [],
   "source": [
    "df1 = pd.read_csv('Visitation_By_State_and_By_Park_%282017%2D_LastCalendarYear%29.csv')\n",
    "df1.head()"
   ]
  },
  {
   "cell_type": "code",
   "execution_count": null,
   "id": "c60e1cbd",
   "metadata": {},
   "outputs": [],
   "source": [
    "ggplot(df1) + aes(x='Field1', y='TotalRecreationVisitorHours') + geom_bar(stat='identity')"
   ]
  },
  {
   "cell_type": "code",
   "execution_count": null,
   "id": "5f66d1b8",
   "metadata": {},
   "outputs": [],
   "source": [
    "ggplot(df1) + aes(x='State', y='TotalRecreationVisitorHours') + geom_bar(stat='identity')"
   ]
  },
  {
   "cell_type": "code",
   "execution_count": null,
   "id": "d4e5f648",
   "metadata": {},
   "outputs": [],
   "source": []
  }
 ],
 "metadata": {
  "kernelspec": {
   "display_name": "Python 3 (ipykernel)",
   "language": "python",
   "name": "python3"
  },
  "language_info": {
   "codemirror_mode": {
    "name": "ipython",
    "version": 3
   },
   "file_extension": ".py",
   "mimetype": "text/x-python",
   "name": "python",
   "nbconvert_exporter": "python",
   "pygments_lexer": "ipython3",
   "version": "3.9.7"
  }
 },
 "nbformat": 4,
 "nbformat_minor": 5
}
